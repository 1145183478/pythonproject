{
 "cells": [
  {
   "cell_type": "code",
   "execution_count": 7,
   "metadata": {
    "execution": {
     "iopub.execute_input": "2021-12-17T05:18:48.535425Z",
     "iopub.status.busy": "2021-12-17T05:18:48.534987Z",
     "iopub.status.idle": "2021-12-17T05:18:49.195200Z",
     "shell.execute_reply": "2021-12-17T05:18:49.194474Z",
     "shell.execute_reply.started": "2021-12-17T05:18:48.535389Z"
    }
   },
   "outputs": [],
   "source": [
    "# 数据集: https://www.kaggle.com/moltean/fruits"
   ]
  },
  {
   "cell_type": "code",
   "execution_count": 8,
   "metadata": {
    "execution": {
     "iopub.execute_input": "2021-12-17T05:18:49.196893Z",
     "iopub.status.busy": "2021-12-17T05:18:49.196507Z",
     "iopub.status.idle": "2021-12-17T05:18:49.514234Z",
     "shell.execute_reply": "2021-12-17T05:18:49.513567Z",
     "shell.execute_reply.started": "2021-12-17T05:18:49.196856Z"
    }
   },
   "outputs": [],
   "source": [
    "import torch\n",
    "import os\n",
    "import torchvision\n",
    "import numpy as np\n",
    "import matplotlib.pyplot as plt\n",
    "import torch.nn as nn\n",
    "import torchvision.models as models\n",
    "import torch.nn.functional as F\n",
    "from torchvision.datasets import ImageFolder\n",
    "from torchvision.transforms import ToTensor\n",
    "from torchvision.utils import make_grid\n",
    "from torch.utils.data.dataloader import DataLoader\n",
    "from torch.utils.data import random_split\n",
    "import torchvision.models as models\n",
    "%matplotlib inline"
   ]
  },
  {
   "cell_type": "code",
   "execution_count": 9,
   "metadata": {
    "execution": {
     "iopub.execute_input": "2021-12-17T05:18:49.516929Z",
     "iopub.status.busy": "2021-12-17T05:18:49.516531Z",
     "iopub.status.idle": "2021-12-17T05:18:49.527146Z",
     "shell.execute_reply": "2021-12-17T05:18:49.526549Z",
     "shell.execute_reply.started": "2021-12-17T05:18:49.516892Z"
    }
   },
   "outputs": [],
   "source": [
    "# 导入数据\n",
    "data_dir = '../input/fruits/fruits-360_dataset/fruits-360'\n",
    "print('Folders :', os.listdir(data_dir))\n",
    "types = os.listdir(data_dir + \"/Training\")\n",
    "print(len(types), ' types of fruits: ', types)"
   ]
  },
  {
   "cell_type": "code",
   "execution_count": 10,
   "metadata": {
    "execution": {
     "iopub.execute_input": "2021-12-17T05:18:49.530034Z",
     "iopub.status.busy": "2021-12-17T05:18:49.528934Z",
     "iopub.status.idle": "2021-12-17T05:18:50.179550Z",
     "shell.execute_reply": "2021-12-17T05:18:50.178683Z",
     "shell.execute_reply.started": "2021-12-17T05:18:49.529995Z"
    }
   },
   "outputs": [],
   "source": [
    "dataset = ImageFolder(data_dir + '/Training', transform=ToTensor())\n",
    "test = ImageFolder(data_dir + '/Test', transform=ToTensor())\n",
    "print('Size of raw dataset :', len(dataset))\n",
    "print('Size of test dataset :', len(test))"
   ]
  },
  {
   "cell_type": "code",
   "execution_count": 11,
   "metadata": {
    "execution": {
     "iopub.execute_input": "2021-12-17T05:18:50.181575Z",
     "iopub.status.busy": "2021-12-17T05:18:50.181049Z",
     "iopub.status.idle": "2021-12-17T05:18:50.188273Z",
     "shell.execute_reply": "2021-12-17T05:18:50.187558Z",
     "shell.execute_reply.started": "2021-12-17T05:18:50.181535Z"
    }
   },
   "outputs": [],
   "source": [
    "random_seed = 42\n",
    "torch.manual_seed(random_seed);"
   ]
  },
  {
   "cell_type": "code",
   "execution_count": 12,
   "metadata": {
    "execution": {
     "iopub.execute_input": "2021-12-17T05:18:50.190301Z",
     "iopub.status.busy": "2021-12-17T05:18:50.189703Z",
     "iopub.status.idle": "2021-12-17T05:18:50.217842Z",
     "shell.execute_reply": "2021-12-17T05:18:50.217200Z",
     "shell.execute_reply.started": "2021-12-17T05:18:50.190235Z"
    }
   },
   "outputs": [],
   "source": [
    "val_size = 10000\n",
    "train_size = len(dataset) - val_size\n",
    "\n",
    "train_ds, val_ds = random_split(dataset, [train_size, val_size])\n",
    "len(train_ds), len(val_ds)"
   ]
  },
  {
   "cell_type": "code",
   "execution_count": 14,
   "metadata": {
    "execution": {
     "iopub.execute_input": "2021-12-17T05:18:50.225287Z",
     "iopub.status.busy": "2021-12-17T05:18:50.224634Z",
     "iopub.status.idle": "2021-12-17T05:18:50.234474Z",
     "shell.execute_reply": "2021-12-17T05:18:50.233669Z",
     "shell.execute_reply.started": "2021-12-17T05:18:50.225226Z"
    }
   },
   "outputs": [],
   "source": [
    "Apple_Pink_Lady_File = os.listdir(data_dir + \"/Training/Apple Pink Lady\")\n",
    "print('No. of training examples for Apple Pink Lady:', len(Apple_Pink_Lady_File))\n",
    "print(Apple_Pink_Lady_File[:5])"
   ]
  },
  {
   "cell_type": "code",
   "execution_count": 15,
   "metadata": {
    "execution": {
     "iopub.execute_input": "2021-12-17T05:18:50.236284Z",
     "iopub.status.busy": "2021-12-17T05:18:50.235795Z",
     "iopub.status.idle": "2021-12-17T05:18:50.243292Z",
     "shell.execute_reply": "2021-12-17T05:18:50.242446Z",
     "shell.execute_reply.started": "2021-12-17T05:18:50.236235Z"
    }
   },
   "outputs": [],
   "source": [
    "Banana_File = os.listdir(data_dir + \"/Training/Banana\")\n",
    "print('No. of training examples for Apple Pink Lady:', len(Banana_File))\n",
    "print(Banana_File[:5])"
   ]
  },
  {
   "cell_type": "code",
   "execution_count": 16,
   "metadata": {
    "execution": {
     "iopub.execute_input": "2021-12-17T05:18:50.245142Z",
     "iopub.status.busy": "2021-12-17T05:18:50.244630Z",
     "iopub.status.idle": "2021-12-17T05:18:50.332371Z",
     "shell.execute_reply": "2021-12-17T05:18:50.331707Z",
     "shell.execute_reply.started": "2021-12-17T05:18:50.245108Z"
    }
   },
   "outputs": [],
   "source": [
    "img, label = dataset[0]\n",
    "print(img.shape, label) \n",
    "img"
   ]
  },
  {
   "cell_type": "code",
   "execution_count": 17,
   "metadata": {
    "execution": {
     "iopub.execute_input": "2021-12-17T05:18:50.334130Z",
     "iopub.status.busy": "2021-12-17T05:18:50.333684Z",
     "iopub.status.idle": "2021-12-17T05:18:50.338567Z",
     "shell.execute_reply": "2021-12-17T05:18:50.337730Z",
     "shell.execute_reply.started": "2021-12-17T05:18:50.334094Z"
    }
   },
   "outputs": [],
   "source": [
    "print(dataset.classes)"
   ]
  },
  {
   "cell_type": "markdown",
   "metadata": {},
   "source": [
    "## Data Exploratory"
   ]
  },
  {
   "cell_type": "code",
   "execution_count": 18,
   "metadata": {
    "execution": {
     "iopub.execute_input": "2021-12-17T05:18:50.343557Z",
     "iopub.status.busy": "2021-12-17T05:18:50.343017Z",
     "iopub.status.idle": "2021-12-17T05:18:50.348782Z",
     "shell.execute_reply": "2021-12-17T05:18:50.347956Z",
     "shell.execute_reply.started": "2021-12-17T05:18:50.343520Z"
    }
   },
   "outputs": [],
   "source": [
    "import matplotlib.pyplot as plt\n",
    "\n",
    "def show_example(img, label):\n",
    "    print('Label: ', dataset.classes[label], \"(\"+str(label)+\")\")\n",
    "    plt.imshow(img.permute(1, 2, 0))"
   ]
  },
  {
   "cell_type": "code",
   "execution_count": 19,
   "metadata": {
    "execution": {
     "iopub.execute_input": "2021-12-17T05:18:50.350612Z",
     "iopub.status.busy": "2021-12-17T05:18:50.350116Z",
     "iopub.status.idle": "2021-12-17T05:18:50.591728Z",
     "shell.execute_reply": "2021-12-17T05:18:50.591081Z",
     "shell.execute_reply.started": "2021-12-17T05:18:50.350544Z"
    }
   },
   "outputs": [],
   "source": [
    "show_example(*dataset[5000])\n"
   ]
  },
  {
   "cell_type": "code",
   "execution_count": 20,
   "metadata": {
    "execution": {
     "iopub.execute_input": "2021-12-17T05:18:50.593188Z",
     "iopub.status.busy": "2021-12-17T05:18:50.592921Z",
     "iopub.status.idle": "2021-12-17T05:18:50.805681Z",
     "shell.execute_reply": "2021-12-17T05:18:50.805013Z",
     "shell.execute_reply.started": "2021-12-17T05:18:50.593152Z"
    }
   },
   "outputs": [],
   "source": [
    "show_example(*dataset[1000])\n"
   ]
  },
  {
   "cell_type": "code",
   "execution_count": 21,
   "metadata": {
    "execution": {
     "iopub.execute_input": "2021-12-17T05:18:50.807226Z",
     "iopub.status.busy": "2021-12-17T05:18:50.806971Z",
     "iopub.status.idle": "2021-12-17T05:18:51.014726Z",
     "shell.execute_reply": "2021-12-17T05:18:51.014092Z",
     "shell.execute_reply.started": "2021-12-17T05:18:50.807191Z"
    }
   },
   "outputs": [],
   "source": [
    "show_example(*dataset[10])"
   ]
  },
  {
   "cell_type": "markdown",
   "metadata": {},
   "source": [
    "## Dataloader"
   ]
  },
  {
   "cell_type": "code",
   "execution_count": 22,
   "metadata": {
    "execution": {
     "iopub.execute_input": "2021-12-17T05:18:51.016348Z",
     "iopub.status.busy": "2021-12-17T05:18:51.015946Z",
     "iopub.status.idle": "2021-12-17T05:18:51.020334Z",
     "shell.execute_reply": "2021-12-17T05:18:51.019659Z",
     "shell.execute_reply.started": "2021-12-17T05:18:51.016304Z"
    }
   },
   "outputs": [],
   "source": [
    "from torch.utils.data.dataloader import DataLoader\n",
    "batch_size=128"
   ]
  },
  {
   "cell_type": "code",
   "execution_count": 23,
   "metadata": {
    "execution": {
     "iopub.execute_input": "2021-12-17T05:18:51.021898Z",
     "iopub.status.busy": "2021-12-17T05:18:51.021465Z",
     "iopub.status.idle": "2021-12-17T05:18:51.032441Z",
     "shell.execute_reply": "2021-12-17T05:18:51.031644Z",
     "shell.execute_reply.started": "2021-12-17T05:18:51.021861Z"
    }
   },
   "outputs": [],
   "source": [
    "train_dl = DataLoader(train_ds, batch_size, shuffle=True, num_workers=4, pin_memory=True)\n",
    "val_dl = DataLoader(val_ds, batch_size*2, num_workers=4, pin_memory=True)"
   ]
  },
  {
   "cell_type": "code",
   "execution_count": 24,
   "metadata": {
    "execution": {
     "iopub.execute_input": "2021-12-17T05:18:51.034277Z",
     "iopub.status.busy": "2021-12-17T05:18:51.033505Z",
     "iopub.status.idle": "2021-12-17T05:18:56.505963Z",
     "shell.execute_reply": "2021-12-17T05:18:56.505302Z",
     "shell.execute_reply.started": "2021-12-17T05:18:51.034227Z"
    }
   },
   "outputs": [],
   "source": [
    "from torchvision.utils import make_grid\n",
    "\n",
    "def show_batch(dl):\n",
    "    for images, labels in dl:\n",
    "        fig, ax = plt.subplots(figsize=(12, 6))\n",
    "        ax.set_xticks([]); ax.set_yticks([])\n",
    "        ax.imshow(make_grid(images, nrow=16).permute(1, 2, 0))\n",
    "        break\n",
    "show_batch(train_dl)"
   ]
  },
  {
   "cell_type": "markdown",
   "metadata": {},
   "source": [
    "## 1. Feed Forward\n",
    "fruitfeedforwardv4"
   ]
  },
  {
   "cell_type": "code",
   "execution_count": 26,
   "metadata": {
    "execution": {
     "iopub.execute_input": "2021-12-17T05:18:56.513727Z",
     "iopub.status.busy": "2021-12-17T05:18:56.513287Z",
     "iopub.status.idle": "2021-12-17T05:18:56.526864Z",
     "shell.execute_reply": "2021-12-17T05:18:56.526057Z",
     "shell.execute_reply.started": "2021-12-17T05:18:56.513687Z"
    }
   },
   "outputs": [],
   "source": [
    "# 超参数\n",
    "batch_size = 128\n",
    "learning_rate = 0.001\n",
    "#其他常量\n",
    "input_size = 3*100*100\n",
    "output_size = 131 "
   ]
  },
  {
   "cell_type": "code",
   "execution_count": 27,
   "metadata": {
    "execution": {
     "iopub.execute_input": "2021-12-17T05:18:56.528539Z",
     "iopub.status.busy": "2021-12-17T05:18:56.528188Z",
     "iopub.status.idle": "2021-12-17T05:18:56.536309Z",
     "shell.execute_reply": "2021-12-17T05:18:56.534959Z",
     "shell.execute_reply.started": "2021-12-17T05:18:56.528504Z"
    }
   },
   "outputs": [],
   "source": [
    "def accuracy(outputs, labels):\n",
    "    _, preds = torch.max(outputs, dim=1)\n",
    "    return torch.tensor(torch.sum(preds == labels).item() / len(preds))"
   ]
  },
  {
   "cell_type": "code",
   "execution_count": 28,
   "metadata": {
    "execution": {
     "iopub.execute_input": "2021-12-17T05:18:56.539162Z",
     "iopub.status.busy": "2021-12-17T05:18:56.538460Z",
     "iopub.status.idle": "2021-12-17T05:18:56.549350Z",
     "shell.execute_reply": "2021-12-17T05:18:56.548639Z",
     "shell.execute_reply.started": "2021-12-17T05:18:56.539131Z"
    }
   },
   "outputs": [],
   "source": [
    "class ImageClassificationBase(nn.Module):\n",
    "    def training_step(self, batch):\n",
    "        images, labels = batch \n",
    "        out = self(images)                  # 生成预测\n",
    "        loss = F.cross_entropy(out, labels) # 计算损失\n",
    "        return loss\n",
    "    \n",
    "    def validation_step(self, batch):\n",
    "        images, labels = batch \n",
    "        out = self(images)                    \n",
    "        loss = F.cross_entropy(out, labels)  \n",
    "        acc = accuracy(out, labels)           # 计算精度\n",
    "        return {'val_loss': loss.detach(), 'val_acc': acc}\n",
    "        \n",
    "    def validation_epoch_end(self, outputs):\n",
    "        batch_losses = [x['val_loss'] for x in outputs]\n",
    "        epoch_loss = torch.stack(batch_losses).mean()   \n",
    "        batch_accs = [x['val_acc'] for x in outputs]\n",
    "        epoch_acc = torch.stack(batch_accs).mean()     \n",
    "        return {'val_loss': epoch_loss.item(), 'val_acc': epoch_acc.item()}\n",
    "    \n",
    "    def epoch_end(self, epoch, result):\n",
    "        print(\"Epoch [{}], val_loss: {:.4f}, val_acc: {:.4f}\".format(epoch, result['val_loss'], result['val_acc']))\n"
   ]
  },
  {
   "cell_type": "code",
   "execution_count": 29,
   "metadata": {
    "execution": {
     "iopub.execute_input": "2021-12-17T05:18:56.550981Z",
     "iopub.status.busy": "2021-12-17T05:18:56.550733Z",
     "iopub.status.idle": "2021-12-17T05:18:56.561074Z",
     "shell.execute_reply": "2021-12-17T05:18:56.560451Z",
     "shell.execute_reply.started": "2021-12-17T05:18:56.550949Z"
    }
   },
   "outputs": [],
   "source": [
    "def evaluate(model, val_loader):\n",
    "    outputs = [model.validation_step(batch) for batch in val_loader]\n",
    "    return model.validation_epoch_end(outputs)\n",
    "\n",
    "def fit(epochs, lr, model, train_loader, val_loader, opt_func=torch.optim.SGD):\n",
    "    history = []\n",
    "    optimizer = opt_func(model.parameters(), lr)\n",
    "    for epoch in range(epochs):\n",
    "        # 训练阶段\n",
    "        for batch in train_loader:\n",
    "            loss = model.training_step(batch)\n",
    "            loss.backward()\n",
    "            optimizer.step()\n",
    "            optimizer.zero_grad()\n",
    "        # 验证阶段\n",
    "        result = evaluate(model, val_loader)\n",
    "        model.epoch_end(epoch, result)\n",
    "        history.append(result)\n",
    "    return history\n"
   ]
  },
  {
   "cell_type": "code",
   "execution_count": 30,
   "metadata": {
    "execution": {
     "iopub.execute_input": "2021-12-17T05:18:56.562861Z",
     "iopub.status.busy": "2021-12-17T05:18:56.562445Z",
     "iopub.status.idle": "2021-12-17T05:18:56.571380Z",
     "shell.execute_reply": "2021-12-17T05:18:56.570599Z",
     "shell.execute_reply.started": "2021-12-17T05:18:56.562827Z"
    }
   },
   "outputs": [],
   "source": [
    "torch.cuda.is_available()"
   ]
  },
  {
   "cell_type": "code",
   "execution_count": 31,
   "metadata": {
    "execution": {
     "iopub.execute_input": "2021-12-17T05:18:56.573334Z",
     "iopub.status.busy": "2021-12-17T05:18:56.572628Z",
     "iopub.status.idle": "2021-12-17T05:18:56.579893Z",
     "shell.execute_reply": "2021-12-17T05:18:56.579131Z",
     "shell.execute_reply.started": "2021-12-17T05:18:56.573295Z"
    }
   },
   "outputs": [],
   "source": [
    "#验证GPU\n",
    "def get_default_device():\n",
    "    \"\"\"Pick GPU if available, else CPU\"\"\"\n",
    "    if torch.cuda.is_available():\n",
    "        return torch.device('cuda')\n",
    "    else:\n",
    "        return torch.device('cpu')\n"
   ]
  },
  {
   "cell_type": "code",
   "execution_count": 32,
   "metadata": {
    "execution": {
     "iopub.execute_input": "2021-12-17T05:18:56.582058Z",
     "iopub.status.busy": "2021-12-17T05:18:56.581260Z",
     "iopub.status.idle": "2021-12-17T05:18:56.593311Z",
     "shell.execute_reply": "2021-12-17T05:18:56.592693Z",
     "shell.execute_reply.started": "2021-12-17T05:18:56.581954Z"
    }
   },
   "outputs": [],
   "source": [
    "device = get_default_device()\n",
    "device"
   ]
  },
  {
   "cell_type": "code",
   "execution_count": 33,
   "metadata": {
    "execution": {
     "iopub.execute_input": "2021-12-17T05:18:56.596601Z",
     "iopub.status.busy": "2021-12-17T05:18:56.595891Z",
     "iopub.status.idle": "2021-12-17T05:18:56.603747Z",
     "shell.execute_reply": "2021-12-17T05:18:56.603044Z",
     "shell.execute_reply.started": "2021-12-17T05:18:56.596432Z"
    }
   },
   "outputs": [],
   "source": [
    "def to_device(data, device):\n",
    "    \"\"\"将张量移动到所选设备\"\"\"\n",
    "    if isinstance(data, (list,tuple)):\n",
    "        return [to_device(x, device) for x in data]\n",
    "    return data.to(device, non_blocking=True)\n",
    "\n",
    "class DeviceDataLoader():\n",
    "    \"\"\"将数据移动到设备\"\"\"\n",
    "    def __init__(self, dl, device):\n",
    "        self.dl = dl\n",
    "        self.device = device\n",
    "        \n",
    "    def __iter__(self):\n",
    "        \"\"\"将数据移动到设备后生成一组数据\"\"\"\n",
    "        for b in self.dl: \n",
    "            yield to_device(b, self.device)\n",
    "\n",
    "    def __len__(self):\n",
    "        return len(self.dl)"
   ]
  },
  {
   "cell_type": "code",
   "execution_count": 34,
   "metadata": {
    "execution": {
     "iopub.execute_input": "2021-12-17T05:18:56.605593Z",
     "iopub.status.busy": "2021-12-17T05:18:56.604862Z",
     "iopub.status.idle": "2021-12-17T05:18:56.614492Z",
     "shell.execute_reply": "2021-12-17T05:18:56.613816Z",
     "shell.execute_reply.started": "2021-12-17T05:18:56.605556Z"
    }
   },
   "outputs": [],
   "source": [
    "class FruitsModelFF(ImageClassificationBase):\n",
    "    def __init__(self):\n",
    "        super().__init__()\n",
    "        self.linear1= nn.Linear(input_size, 2000)\n",
    "        self.linear2= nn.Linear(2000, 1000)\n",
    "        self.linear3= nn.Linear(1000,500)\n",
    "        self.linear4= nn.Linear(500,250)\n",
    "        self.linear5= nn.Linear(250, output_size)\n",
    "        \n",
    "    def forward(self, xb):\n",
    "        # 将图像展平为向量\n",
    "        out = xb.view(xb.size(0), -1)\n",
    "        # 应用图层和激活功能 \n",
    "        out= self.linear1(out)\n",
    "        out=F.relu(out)  \n",
    "        out=self.linear2(out)\n",
    "        out=F.relu(out)  \n",
    "        out=self.linear3(out)\n",
    "        out=F.relu(out)  \n",
    "        out=self.linear4(out)\n",
    "        out=F.relu(out)  \n",
    "        out=self.linear5(out)\n",
    "        return out"
   ]
  },
  {
   "cell_type": "code",
   "execution_count": 35,
   "metadata": {
    "execution": {
     "iopub.execute_input": "2021-12-17T05:18:56.616353Z",
     "iopub.status.busy": "2021-12-17T05:18:56.615707Z",
     "iopub.status.idle": "2021-12-17T05:18:57.202985Z",
     "shell.execute_reply": "2021-12-17T05:18:57.202283Z",
     "shell.execute_reply.started": "2021-12-17T05:18:56.616314Z"
    }
   },
   "outputs": [],
   "source": [
    "model = to_device(FruitsModelFF(), device)"
   ]
  },
  {
   "cell_type": "code",
   "execution_count": 36,
   "metadata": {
    "execution": {
     "iopub.execute_input": "2021-12-17T05:18:57.204909Z",
     "iopub.status.busy": "2021-12-17T05:18:57.204148Z",
     "iopub.status.idle": "2021-12-17T05:18:57.210135Z",
     "shell.execute_reply": "2021-12-17T05:18:57.209503Z",
     "shell.execute_reply.started": "2021-12-17T05:18:57.204861Z"
    }
   },
   "outputs": [],
   "source": [
    "\n",
    "train_dl = DeviceDataLoader(train_dl, device)\n",
    "val_dl = DeviceDataLoader(val_dl, device)\n",
    "to_device(model, device);"
   ]
  },
  {
   "cell_type": "code",
   "execution_count": 37,
   "metadata": {
    "execution": {
     "iopub.execute_input": "2021-12-17T05:18:57.211728Z",
     "iopub.status.busy": "2021-12-17T05:18:57.211162Z",
     "iopub.status.idle": "2021-12-17T05:19:12.023935Z",
     "shell.execute_reply": "2021-12-17T05:19:12.023139Z",
     "shell.execute_reply.started": "2021-12-17T05:18:57.211692Z"
    }
   },
   "outputs": [],
   "source": [
    "history = [evaluate(model, val_dl)]\n",
    "history"
   ]
  },
  {
   "cell_type": "code",
   "execution_count": 38,
   "metadata": {
    "execution": {
     "iopub.execute_input": "2021-12-17T05:19:12.025949Z",
     "iopub.status.busy": "2021-12-17T05:19:12.025677Z",
     "iopub.status.idle": "2021-12-17T05:26:35.724443Z",
     "shell.execute_reply": "2021-12-17T05:26:35.723591Z",
     "shell.execute_reply.started": "2021-12-17T05:19:12.025908Z"
    }
   },
   "outputs": [],
   "source": [
    "history += fit(10, 0.01, model, train_dl, val_dl)"
   ]
  },
  {
   "cell_type": "code",
   "execution_count": 39,
   "metadata": {
    "execution": {
     "iopub.execute_input": "2021-12-17T05:26:35.726611Z",
     "iopub.status.busy": "2021-12-17T05:26:35.726158Z",
     "iopub.status.idle": "2021-12-17T05:33:15.394872Z",
     "shell.execute_reply": "2021-12-17T05:33:15.393979Z",
     "shell.execute_reply.started": "2021-12-17T05:26:35.726568Z"
    }
   },
   "outputs": [],
   "source": [
    "history += fit(10, 0.001, model, train_dl, val_dl)"
   ]
  },
  {
   "cell_type": "code",
   "execution_count": 40,
   "metadata": {
    "execution": {
     "iopub.execute_input": "2021-12-17T05:33:15.396751Z",
     "iopub.status.busy": "2021-12-17T05:33:15.396517Z",
     "iopub.status.idle": "2021-12-17T05:33:15.401967Z",
     "shell.execute_reply": "2021-12-17T05:33:15.401173Z",
     "shell.execute_reply.started": "2021-12-17T05:33:15.396718Z"
    }
   },
   "outputs": [],
   "source": [
    "def plot_losses(history):\n",
    "    losses = [x['val_loss'] for x in history]\n",
    "    plt.plot(losses, '-x')\n",
    "    plt.xlabel('epoch')\n",
    "    plt.ylabel('loss')\n",
    "    plt.title('Loss vs. No. of epochs');"
   ]
  },
  {
   "cell_type": "code",
   "execution_count": 41,
   "metadata": {
    "execution": {
     "iopub.execute_input": "2021-12-17T05:33:15.404043Z",
     "iopub.status.busy": "2021-12-17T05:33:15.403516Z",
     "iopub.status.idle": "2021-12-17T05:33:15.630795Z",
     "shell.execute_reply": "2021-12-17T05:33:15.630063Z",
     "shell.execute_reply.started": "2021-12-17T05:33:15.404005Z"
    }
   },
   "outputs": [],
   "source": [
    "plot_losses(history)"
   ]
  },
  {
   "cell_type": "code",
   "execution_count": 42,
   "metadata": {
    "execution": {
     "iopub.execute_input": "2021-12-17T05:33:15.632594Z",
     "iopub.status.busy": "2021-12-17T05:33:15.632351Z",
     "iopub.status.idle": "2021-12-17T05:33:15.638279Z",
     "shell.execute_reply": "2021-12-17T05:33:15.637214Z",
     "shell.execute_reply.started": "2021-12-17T05:33:15.632556Z"
    }
   },
   "outputs": [],
   "source": [
    "def plot_accuracies(history):\n",
    "    accuracies = [x['val_acc'] for x in history]\n",
    "    plt.plot(accuracies, '-x')\n",
    "    plt.xlabel('epoch')\n",
    "    plt.ylabel('accuracy')\n",
    "    plt.title('Accuracy vs. No. of epochs');"
   ]
  },
  {
   "cell_type": "code",
   "execution_count": 43,
   "metadata": {
    "execution": {
     "iopub.execute_input": "2021-12-17T05:33:15.640330Z",
     "iopub.status.busy": "2021-12-17T05:33:15.639960Z",
     "iopub.status.idle": "2021-12-17T05:33:15.864329Z",
     "shell.execute_reply": "2021-12-17T05:33:15.863515Z",
     "shell.execute_reply.started": "2021-12-17T05:33:15.640289Z"
    }
   },
   "outputs": [],
   "source": [
    "plot_accuracies(history)"
   ]
  },
  {
   "cell_type": "code",
   "execution_count": 44,
   "metadata": {
    "execution": {
     "iopub.execute_input": "2021-12-17T05:33:15.866091Z",
     "iopub.status.busy": "2021-12-17T05:33:15.865835Z",
     "iopub.status.idle": "2021-12-17T05:33:15.872121Z",
     "shell.execute_reply": "2021-12-17T05:33:15.870811Z",
     "shell.execute_reply.started": "2021-12-17T05:33:15.866055Z"
    }
   },
   "outputs": [],
   "source": [
    "def plot_losses(history):\n",
    "    train_losses = [x.get('train_loss') for x in history]\n",
    "    val_losses = [x['val_loss'] for x in history]\n",
    "    plt.plot(train_losses, '-bx')\n",
    "    plt.plot(val_losses, '-rx')\n",
    "    plt.xlabel('epoch')\n",
    "    plt.ylabel('loss')\n",
    "    plt.title('Loss vs. No. of epochs');\n"
   ]
  },
  {
   "cell_type": "code",
   "execution_count": 45,
   "metadata": {
    "execution": {
     "iopub.execute_input": "2021-12-17T05:33:15.883258Z",
     "iopub.status.busy": "2021-12-17T05:33:15.882627Z",
     "iopub.status.idle": "2021-12-17T05:33:16.095691Z",
     "shell.execute_reply": "2021-12-17T05:33:16.094864Z",
     "shell.execute_reply.started": "2021-12-17T05:33:15.883207Z"
    }
   },
   "outputs": [],
   "source": [
    "plot_losses(history)\n"
   ]
  },
  {
   "cell_type": "code",
   "execution_count": 46,
   "metadata": {
    "execution": {
     "iopub.execute_input": "2021-12-17T05:33:16.097669Z",
     "iopub.status.busy": "2021-12-17T05:33:16.097205Z",
     "iopub.status.idle": "2021-12-17T05:33:16.103469Z",
     "shell.execute_reply": "2021-12-17T05:33:16.102654Z",
     "shell.execute_reply.started": "2021-12-17T05:33:16.097632Z"
    }
   },
   "outputs": [],
   "source": [
    "def predict_image(img, model):\n",
    "    xb = to_device(img.unsqueeze(0), device)\n",
    "    # 从模型中获取预测\n",
    "    yb = model(xb)\n",
    "    # 选择概率最大\n",
    "    _, preds  = torch.max(yb, dim=1)\n",
    "    # 检索类标签\n",
    "    return dataset.classes[preds[0].item()]"
   ]
  },
  {
   "cell_type": "code",
   "execution_count": 47,
   "metadata": {
    "execution": {
     "iopub.execute_input": "2021-12-17T05:33:16.106156Z",
     "iopub.status.busy": "2021-12-17T05:33:16.105935Z",
     "iopub.status.idle": "2021-12-17T05:33:16.460744Z",
     "shell.execute_reply": "2021-12-17T05:33:16.460071Z",
     "shell.execute_reply.started": "2021-12-17T05:33:16.106132Z"
    }
   },
   "outputs": [],
   "source": [
    "img, label = test[0]\n",
    "plt.imshow(img.permute(1, 2, 0))\n",
    "print('Label:', dataset.classes[label], ', Predicted:', predict_image(img, model))"
   ]
  },
  {
   "cell_type": "code",
   "execution_count": 48,
   "metadata": {
    "execution": {
     "iopub.execute_input": "2021-12-17T05:33:16.462464Z",
     "iopub.status.busy": "2021-12-17T05:33:16.462044Z",
     "iopub.status.idle": "2021-12-17T05:33:16.659678Z",
     "shell.execute_reply": "2021-12-17T05:33:16.659016Z",
     "shell.execute_reply.started": "2021-12-17T05:33:16.462426Z"
    }
   },
   "outputs": [],
   "source": [
    "img, label = test[6153]\n",
    "plt.imshow(img.permute(1, 2, 0))\n",
    "print('Label:', dataset.classes[label], ', Predicted:', predict_image(img, model))\n"
   ]
  },
  {
   "cell_type": "code",
   "execution_count": 49,
   "metadata": {
    "execution": {
     "iopub.execute_input": "2021-12-17T05:33:16.661389Z",
     "iopub.status.busy": "2021-12-17T05:33:16.660956Z",
     "iopub.status.idle": "2021-12-17T05:35:03.485928Z",
     "shell.execute_reply": "2021-12-17T05:35:03.485111Z",
     "shell.execute_reply.started": "2021-12-17T05:33:16.661350Z"
    }
   },
   "outputs": [],
   "source": [
    "test_loader = DeviceDataLoader(DataLoader(test, batch_size*2), device)\n",
    "result = evaluate(model, test_loader)\n",
    "result"
   ]
  },
  {
   "cell_type": "code",
   "execution_count": 50,
   "metadata": {
    "execution": {
     "iopub.execute_input": "2021-12-17T05:35:03.488567Z",
     "iopub.status.busy": "2021-12-17T05:35:03.488023Z",
     "iopub.status.idle": "2021-12-17T05:35:03.493120Z",
     "shell.execute_reply": "2021-12-17T05:35:03.492434Z",
     "shell.execute_reply.started": "2021-12-17T05:35:03.488513Z"
    }
   },
   "outputs": [],
   "source": [
    "#前馈网络测试数据'\n",
    "test_accuracy=0.8620961904525757\n",
    "test_loss=0.5250639319419861"
   ]
  },
  {
   "cell_type": "code",
   "execution_count": 51,
   "metadata": {
    "execution": {
     "iopub.execute_input": "2021-12-17T05:35:03.495273Z",
     "iopub.status.busy": "2021-12-17T05:35:03.494626Z",
     "iopub.status.idle": "2021-12-17T05:35:03.504095Z",
     "shell.execute_reply": "2021-12-17T05:35:03.503299Z",
     "shell.execute_reply.started": "2021-12-17T05:35:03.495222Z"
    }
   },
   "outputs": [],
   "source": [
    "lrs = [0.01,0.001]"
   ]
  },
  {
   "cell_type": "code",
   "execution_count": 52,
   "metadata": {
    "execution": {
     "iopub.execute_input": "2021-12-17T05:35:03.506816Z",
     "iopub.status.busy": "2021-12-17T05:35:03.506038Z",
     "iopub.status.idle": "2021-12-17T05:35:03.513137Z",
     "shell.execute_reply": "2021-12-17T05:35:03.512490Z",
     "shell.execute_reply.started": "2021-12-17T05:35:03.506768Z"
    }
   },
   "outputs": [],
   "source": [
    "archi = \"feed forward 5 layers (2000,1000,500,250,131)\""
   ]
  },
  {
   "cell_type": "code",
   "execution_count": 53,
   "metadata": {
    "execution": {
     "iopub.execute_input": "2021-12-17T05:35:03.514325Z",
     "iopub.status.busy": "2021-12-17T05:35:03.514117Z",
     "iopub.status.idle": "2021-12-17T05:35:03.522028Z",
     "shell.execute_reply": "2021-12-17T05:35:03.521305Z",
     "shell.execute_reply.started": "2021-12-17T05:35:03.514294Z"
    }
   },
   "outputs": [],
   "source": [
    "epochs = [10,10]"
   ]
  },
  {
   "cell_type": "code",
   "execution_count": 54,
   "metadata": {
    "execution": {
     "iopub.execute_input": "2021-12-17T05:35:03.523145Z",
     "iopub.status.busy": "2021-12-17T05:35:03.522929Z",
     "iopub.status.idle": "2021-12-17T05:35:04.170859Z",
     "shell.execute_reply": "2021-12-17T05:35:04.170045Z",
     "shell.execute_reply.started": "2021-12-17T05:35:03.523120Z"
    }
   },
   "outputs": [],
   "source": [
    "torch.save(model.state_dict(), 'fruitsfinalcnn.pth')"
   ]
  },
  {
   "cell_type": "code",
   "execution_count": 57,
   "metadata": {
    "execution": {
     "iopub.execute_input": "2021-12-17T05:36:16.176233Z",
     "iopub.status.busy": "2021-12-17T05:36:16.175974Z",
     "iopub.status.idle": "2021-12-17T05:36:16.180820Z",
     "shell.execute_reply": "2021-12-17T05:36:16.180087Z",
     "shell.execute_reply.started": "2021-12-17T05:36:16.176204Z"
    }
   },
   "outputs": [],
   "source": [
    "valid_loss = 0.1355\n",
    "valid_accuracy= 0.9666"
   ]
  },
  {
   "cell_type": "markdown",
   "metadata": {},
   "source": [
    "## 2. Convolutional Neural Network (CNN)\n",
    "fruitsconvo v12"
   ]
  },
  {
   "cell_type": "code",
   "execution_count": 58,
   "metadata": {
    "execution": {
     "iopub.execute_input": "2021-12-17T05:36:26.235971Z",
     "iopub.status.busy": "2021-12-17T05:36:26.235296Z",
     "iopub.status.idle": "2021-12-17T05:36:26.240215Z",
     "shell.execute_reply": "2021-12-17T05:36:26.239339Z",
     "shell.execute_reply.started": "2021-12-17T05:36:26.235932Z"
    }
   },
   "outputs": [],
   "source": [
    "archi='CNN'\n",
    "# 超参数\n",
    "batch_size = 128\n",
    "learning_rate = 0.001\n",
    "\n",
    "# 其他常量\n",
    "input_size = 3*100*100\n",
    "output_size = 131 # Number of classes"
   ]
  },
  {
   "cell_type": "code",
   "execution_count": 60,
   "metadata": {
    "execution": {
     "iopub.execute_input": "2021-12-17T05:36:33.219159Z",
     "iopub.status.busy": "2021-12-17T05:36:33.218907Z",
     "iopub.status.idle": "2021-12-17T05:36:33.226278Z",
     "shell.execute_reply": "2021-12-17T05:36:33.224000Z",
     "shell.execute_reply.started": "2021-12-17T05:36:33.219129Z"
    }
   },
   "outputs": [],
   "source": [
    "def apply_kernel(image, kernel):\n",
    "    ri, ci = image.shape       # 图像尺寸\n",
    "    rk, ck = kernel.shape      # 核\n",
    "    ro, co = ri-rk+1, ci-ck+1  # 输出维度\n",
    "    output = torch.zeros([ro, co])\n",
    "    for i in range(ro): \n",
    "        for j in range(co):\n",
    "            output[i,j] = torch.sum(image[i:i+rk,j:j+ck] * kernel)\n",
    "    return output"
   ]
  },
  {
   "cell_type": "code",
   "execution_count": 61,
   "metadata": {
    "execution": {
     "iopub.execute_input": "2021-12-17T05:36:34.714524Z",
     "iopub.status.busy": "2021-12-17T05:36:34.713946Z",
     "iopub.status.idle": "2021-12-17T05:36:34.725030Z",
     "shell.execute_reply": "2021-12-17T05:36:34.724295Z",
     "shell.execute_reply.started": "2021-12-17T05:36:34.714484Z"
    }
   },
   "outputs": [],
   "source": [
    "sample_image = torch.tensor([\n",
    "    [3, 3, 2, 1, 0], \n",
    "    [0, 0, 1, 3, 1], \n",
    "    [3, 1, 2, 2, 3], \n",
    "    [2, 0, 0, 2, 2], \n",
    "    [2, 0, 0, 0, 1]\n",
    "], dtype=torch.float32) #image\n",
    "\n",
    "sample_kernel = torch.tensor([\n",
    "    [0, 1, 2], \n",
    "    [2, 2, 0], \n",
    "    [0, 1, 2]\n",
    "], dtype=torch.float32) \n",
    "\n",
    "apply_kernel(sample_image, sample_kernel)"
   ]
  },
  {
   "cell_type": "code",
   "execution_count": 64,
   "metadata": {
    "execution": {
     "iopub.execute_input": "2021-12-17T05:36:46.103254Z",
     "iopub.status.busy": "2021-12-17T05:36:46.102991Z",
     "iopub.status.idle": "2021-12-17T05:36:46.108785Z",
     "shell.execute_reply": "2021-12-17T05:36:46.108147Z",
     "shell.execute_reply.started": "2021-12-17T05:36:46.103214Z"
    }
   },
   "outputs": [],
   "source": [
    "simple_model = nn.Sequential(\n",
    "    nn.Conv2d(3, 8, kernel_size=3, stride=1, padding=1),\n",
    "    nn.MaxPool2d(2, 2)\n",
    ")"
   ]
  },
  {
   "cell_type": "code",
   "execution_count": 66,
   "metadata": {
    "execution": {
     "iopub.execute_input": "2021-12-17T05:38:29.586068Z",
     "iopub.status.busy": "2021-12-17T05:38:29.585337Z",
     "iopub.status.idle": "2021-12-17T05:38:29.591646Z",
     "shell.execute_reply": "2021-12-17T05:38:29.590904Z",
     "shell.execute_reply.started": "2021-12-17T05:38:29.586027Z"
    }
   },
   "outputs": [],
   "source": [
    "simple_model = simple_model.cuda()"
   ]
  },
  {
   "cell_type": "code",
   "execution_count": 67,
   "metadata": {
    "execution": {
     "iopub.execute_input": "2021-12-17T05:38:34.676818Z",
     "iopub.status.busy": "2021-12-17T05:38:34.676207Z",
     "iopub.status.idle": "2021-12-17T05:38:40.178028Z",
     "shell.execute_reply": "2021-12-17T05:38:40.177148Z",
     "shell.execute_reply.started": "2021-12-17T05:38:34.676775Z"
    }
   },
   "outputs": [],
   "source": [
    "for images, labels in train_dl:\n",
    "    print('images.shape:', images.shape)\n",
    "    out = simple_model(images)\n",
    "    print('out.shape:', out.shape)\n",
    "    break\n",
    "    "
   ]
  },
  {
   "cell_type": "code",
   "execution_count": 68,
   "metadata": {
    "execution": {
     "iopub.execute_input": "2021-12-17T05:38:46.588859Z",
     "iopub.status.busy": "2021-12-17T05:38:46.588267Z",
     "iopub.status.idle": "2021-12-17T05:38:46.599092Z",
     "shell.execute_reply": "2021-12-17T05:38:46.598360Z",
     "shell.execute_reply.started": "2021-12-17T05:38:46.588819Z"
    }
   },
   "outputs": [],
   "source": [
    "\n",
    "def accuracy(outputs, labels):\n",
    "    _, preds = torch.max(outputs, dim=1)\n",
    "    return torch.tensor(torch.sum(preds == labels).item() / len(preds))\n",
    "\n",
    "class ImageClassificationBase(nn.Module):\n",
    "    def training_step(self, batch):\n",
    "        images, labels = batch \n",
    "        out = self(images)                  # 生成预测\n",
    "        loss = F.cross_entropy(out, labels) # 计算损失\n",
    "        return loss\n",
    "    \n",
    "    def validation_step(self, batch):\n",
    "        images, labels = batch \n",
    "        out = self(images)                    # 生成预测\n",
    "        loss = F.cross_entropy(out, labels)   # 计算损失\n",
    "        acc = accuracy(out, labels)           # 计算精度\n",
    "        return {'val_loss': loss.detach(), 'val_acc': acc}\n",
    "        \n",
    "    def validation_epoch_end(self, outputs):\n",
    "        batch_losses = [x['val_loss'] for x in outputs]\n",
    "        epoch_loss = torch.stack(batch_losses).mean()   # Combine losses\n",
    "        batch_accs = [x['val_acc'] for x in outputs]\n",
    "        epoch_acc = torch.stack(batch_accs).mean()      # Combine accuracies\n",
    "        return {'val_loss': epoch_loss.item(), 'val_acc': epoch_acc.item()}\n",
    "    \n",
    "    def epoch_end(self, epoch, result):\n",
    "        print(\"Epoch [{}], train_loss: {:.4f}, val_loss: {:.4f}, val_acc: {:.4f}\".format(\n",
    "            epoch, result['train_loss'], result['val_loss'], result['val_acc']))"
   ]
  },
  {
   "cell_type": "code",
   "execution_count": 69,
   "metadata": {
    "execution": {
     "iopub.execute_input": "2021-12-17T05:38:49.391623Z",
     "iopub.status.busy": "2021-12-17T05:38:49.390973Z",
     "iopub.status.idle": "2021-12-17T05:38:49.400286Z",
     "shell.execute_reply": "2021-12-17T05:38:49.399606Z",
     "shell.execute_reply.started": "2021-12-17T05:38:49.391583Z"
    }
   },
   "outputs": [],
   "source": [
    "class FruitsModel(ImageClassificationBase):\n",
    "    def __init__(self):\n",
    "        super().__init__()\n",
    "        self.network = nn.Sequential(\n",
    "            nn.Conv2d(3, 32, kernel_size=3, padding=1), #3 channels to 32 channels\n",
    "            nn.ReLU(),\n",
    "            nn.Conv2d(32, 64, kernel_size=3, stride=1, padding=1),\n",
    "            nn.ReLU(),\n",
    "            nn.MaxPool2d(2, 2), # output: 64 channels x 50 x 50 image size\n",
    "\n",
    "            nn.Conv2d(64, 128, kernel_size=3, stride=1, padding=1),\n",
    "            nn.ReLU(),\n",
    "            nn.Conv2d(128, 128, kernel_size=3, stride=1, padding=1),\n",
    "            nn.ReLU(),\n",
    "            nn.MaxPool2d(2, 2), # output: 128 x 25 x 25\n",
    "\n",
    "            nn.Conv2d(128, 256, kernel_size=3, stride=1, padding=1),\n",
    "            nn.ReLU(),\n",
    "            nn.Conv2d(256, 256, kernel_size=3, stride=1, padding=1),\n",
    "            nn.ReLU(),\n",
    "            nn.MaxPool2d(5, 5), \n",
    "\n",
    "            nn.Flatten(), #a single vector \n",
    "            nn.Linear(256*5*5, 1024),\n",
    "            nn.ReLU(),\n",
    "            nn.Linear(1024, 512),\n",
    "            nn.ReLU(),\n",
    "            nn.Linear(512, 131))\n",
    "        \n",
    "    def forward(self, xb):\n",
    "        return self.network(xb)"
   ]
  },
  {
   "cell_type": "code",
   "execution_count": 70,
   "metadata": {
    "execution": {
     "iopub.execute_input": "2021-12-17T05:38:51.968104Z",
     "iopub.status.busy": "2021-12-17T05:38:51.967578Z",
     "iopub.status.idle": "2021-12-17T05:38:52.044392Z",
     "shell.execute_reply": "2021-12-17T05:38:52.043584Z",
     "shell.execute_reply.started": "2021-12-17T05:38:51.968064Z"
    }
   },
   "outputs": [],
   "source": [
    "model = FruitsModel()\n",
    "model"
   ]
  },
  {
   "cell_type": "code",
   "execution_count": 72,
   "metadata": {
    "execution": {
     "iopub.execute_input": "2021-12-17T05:38:59.533123Z",
     "iopub.status.busy": "2021-12-17T05:38:59.532703Z",
     "iopub.status.idle": "2021-12-17T05:38:59.542631Z",
     "shell.execute_reply": "2021-12-17T05:38:59.540343Z",
     "shell.execute_reply.started": "2021-12-17T05:38:59.533086Z"
    }
   },
   "outputs": [],
   "source": [
    "#GPU\n",
    "def get_default_device():\n",
    "    \"\"\"Pick GPU if available, else CPU\"\"\"\n",
    "    if torch.cuda.is_available():\n",
    "        return torch.device('cuda')\n",
    "    else:\n",
    "        return torch.device('cpu')\n",
    "    \n",
    "def to_device(data, device):\n",
    "    \"\"\"Move tensor(s) to chosen device\"\"\"\n",
    "    if isinstance(data, (list,tuple)):\n",
    "        return [to_device(x, device) for x in data]\n",
    "    return data.to(device, non_blocking=True)\n",
    "\n",
    "class DeviceDataLoader():\n",
    "    \"\"\"Wrap a dataloader to move data to a device\"\"\"\n",
    "    def __init__(self, dl, device):\n",
    "        self.dl = dl\n",
    "        self.device = device\n",
    "        \n",
    "    def __iter__(self):\n",
    "        \"\"\"Yield a batch of data after moving it to device\"\"\"\n",
    "        for b in self.dl: \n",
    "            yield to_device(b, self.device)\n",
    "\n",
    "    def __len__(self):\n",
    "        \"\"\"Number of batches\"\"\"\n",
    "        return len(self.dl)\n"
   ]
  },
  {
   "cell_type": "code",
   "execution_count": 73,
   "metadata": {
    "execution": {
     "iopub.execute_input": "2021-12-17T05:39:02.510727Z",
     "iopub.status.busy": "2021-12-17T05:39:02.510184Z",
     "iopub.status.idle": "2021-12-17T05:39:02.515788Z",
     "shell.execute_reply": "2021-12-17T05:39:02.515082Z",
     "shell.execute_reply.started": "2021-12-17T05:39:02.510690Z"
    }
   },
   "outputs": [],
   "source": [
    "device = get_default_device()\n",
    "device"
   ]
  },
  {
   "cell_type": "code",
   "execution_count": 74,
   "metadata": {
    "execution": {
     "iopub.execute_input": "2021-12-17T05:39:04.887818Z",
     "iopub.status.busy": "2021-12-17T05:39:04.887276Z",
     "iopub.status.idle": "2021-12-17T05:39:04.902878Z",
     "shell.execute_reply": "2021-12-17T05:39:04.902233Z",
     "shell.execute_reply.started": "2021-12-17T05:39:04.887775Z"
    }
   },
   "outputs": [],
   "source": [
    "train_dl = DeviceDataLoader(train_dl, device)\n",
    "val_dl = DeviceDataLoader(val_dl, device)\n",
    "to_device(model, device);"
   ]
  },
  {
   "cell_type": "code",
   "execution_count": 75,
   "metadata": {
    "execution": {
     "iopub.execute_input": "2021-12-17T05:39:06.660936Z",
     "iopub.status.busy": "2021-12-17T05:39:06.660337Z",
     "iopub.status.idle": "2021-12-17T05:39:06.668189Z",
     "shell.execute_reply": "2021-12-17T05:39:06.667551Z",
     "shell.execute_reply.started": "2021-12-17T05:39:06.660897Z"
    }
   },
   "outputs": [],
   "source": [
    "@torch.no_grad() \n",
    "def evaluate(model, val_loader):\n",
    "    model.eval()\n",
    "    outputs = [model.validation_step(batch) for batch in val_loader]\n",
    "    return model.validation_epoch_end(outputs)\n",
    "\n",
    "def fit(epochs, lr, model, train_loader, val_loader, opt_func=torch.optim.SGD):\n",
    "    history = []\n",
    "    optimizer = opt_func(model.parameters(), lr)\n",
    "    for epoch in range(epochs):\n",
    "        # Training Phase \n",
    "        model.train()\n",
    "        train_losses = []\n",
    "        for batch in train_loader:\n",
    "            loss = model.training_step(batch)\n",
    "            train_losses.append(loss)\n",
    "            loss.backward()\n",
    "            optimizer.step()\n",
    "            optimizer.zero_grad()\n",
    "        # Validation phase\n",
    "        result = evaluate(model, val_loader)\n",
    "        result['train_loss'] = torch.stack(train_losses).mean().item()\n",
    "        model.epoch_end(epoch, result)\n",
    "        history.append(result)\n",
    "    return history"
   ]
  },
  {
   "cell_type": "code",
   "execution_count": 76,
   "metadata": {
    "execution": {
     "iopub.execute_input": "2021-12-17T05:39:11.961855Z",
     "iopub.status.busy": "2021-12-17T05:39:11.961601Z",
     "iopub.status.idle": "2021-12-17T05:39:12.041627Z",
     "shell.execute_reply": "2021-12-17T05:39:12.040942Z",
     "shell.execute_reply.started": "2021-12-17T05:39:11.961825Z"
    }
   },
   "outputs": [],
   "source": [
    "model = to_device(FruitsModel(), device)"
   ]
  },
  {
   "cell_type": "code",
   "execution_count": 77,
   "metadata": {
    "execution": {
     "iopub.execute_input": "2021-12-17T05:39:14.062699Z",
     "iopub.status.busy": "2021-12-17T05:39:14.062448Z",
     "iopub.status.idle": "2021-12-17T05:39:21.426969Z",
     "shell.execute_reply": "2021-12-17T05:39:21.426135Z",
     "shell.execute_reply.started": "2021-12-17T05:39:14.062669Z"
    }
   },
   "outputs": [],
   "source": [
    "evaluate(model, val_dl)"
   ]
  },
  {
   "cell_type": "code",
   "execution_count": 79,
   "metadata": {
    "execution": {
     "iopub.execute_input": "2021-12-17T05:39:21.436803Z",
     "iopub.status.busy": "2021-12-17T05:39:21.436565Z",
     "iopub.status.idle": "2021-12-17T05:39:21.444760Z",
     "shell.execute_reply": "2021-12-17T05:39:21.444093Z",
     "shell.execute_reply.started": "2021-12-17T05:39:21.436768Z"
    }
   },
   "outputs": [],
   "source": [
    "num_epochs = 10\n",
    "opt_func = torch.optim.Adam \n",
    "lr = 0.001"
   ]
  },
  {
   "cell_type": "code",
   "execution_count": 80,
   "metadata": {
    "execution": {
     "iopub.execute_input": "2021-12-17T05:39:27.583264Z",
     "iopub.status.busy": "2021-12-17T05:39:27.582838Z",
     "iopub.status.idle": "2021-12-17T05:50:37.068459Z",
     "shell.execute_reply": "2021-12-17T05:50:37.067561Z",
     "shell.execute_reply.started": "2021-12-17T05:39:27.583203Z"
    }
   },
   "outputs": [],
   "source": [
    "history = fit(num_epochs, lr, model, train_dl, val_dl, opt_func)"
   ]
  },
  {
   "cell_type": "code",
   "execution_count": 82,
   "metadata": {
    "execution": {
     "iopub.execute_input": "2021-12-17T05:50:44.956089Z",
     "iopub.status.busy": "2021-12-17T05:50:44.955667Z",
     "iopub.status.idle": "2021-12-17T05:50:52.761097Z",
     "shell.execute_reply": "2021-12-17T05:50:52.760211Z",
     "shell.execute_reply.started": "2021-12-17T05:50:44.956046Z"
    }
   },
   "outputs": [],
   "source": [
    "evaluate(model, val_dl)"
   ]
  },
  {
   "cell_type": "code",
   "execution_count": 83,
   "metadata": {
    "execution": {
     "iopub.execute_input": "2021-12-17T05:50:52.764015Z",
     "iopub.status.busy": "2021-12-17T05:50:52.763586Z",
     "iopub.status.idle": "2021-12-17T05:50:52.770742Z",
     "shell.execute_reply": "2021-12-17T05:50:52.770028Z",
     "shell.execute_reply.started": "2021-12-17T05:50:52.763973Z"
    }
   },
   "outputs": [],
   "source": [
    "def plot_accuracies(history):\n",
    "    accuracies = [x['val_acc'] for x in history]\n",
    "    plt.plot(accuracies, '-x')\n",
    "    plt.xlabel('epoch')\n",
    "    plt.ylabel('accuracy')\n",
    "    plt.title('Accuracy vs. No. of epochs');"
   ]
  },
  {
   "cell_type": "code",
   "execution_count": 85,
   "metadata": {
    "execution": {
     "iopub.execute_input": "2021-12-17T05:50:52.967595Z",
     "iopub.status.busy": "2021-12-17T05:50:52.967168Z",
     "iopub.status.idle": "2021-12-17T05:50:53.153800Z",
     "shell.execute_reply": "2021-12-17T05:50:53.153102Z",
     "shell.execute_reply.started": "2021-12-17T05:50:52.967556Z"
    }
   },
   "outputs": [],
   "source": [
    "plot_accuracies(history)"
   ]
  },
  {
   "cell_type": "code",
   "execution_count": 86,
   "metadata": {
    "execution": {
     "iopub.execute_input": "2021-12-17T05:50:53.156423Z",
     "iopub.status.busy": "2021-12-17T05:50:53.155137Z",
     "iopub.status.idle": "2021-12-17T05:50:53.162668Z",
     "shell.execute_reply": "2021-12-17T05:50:53.161964Z",
     "shell.execute_reply.started": "2021-12-17T05:50:53.156380Z"
    }
   },
   "outputs": [],
   "source": [
    "def plot_losses(history):\n",
    "    train_losses = [x.get('train_loss') for x in history]\n",
    "    val_losses = [x['val_loss'] for x in history]\n",
    "    plt.plot(train_losses, '-bx')\n",
    "    plt.plot(val_losses, '-rx')\n",
    "    plt.xlabel('epoch')\n",
    "    plt.ylabel('loss')\n",
    "    plt.legend(['Training', 'Validation'])\n",
    "    plt.title('Loss vs. No. of epochs');"
   ]
  },
  {
   "cell_type": "code",
   "execution_count": 87,
   "metadata": {
    "execution": {
     "iopub.execute_input": "2021-12-17T05:50:59.544279Z",
     "iopub.status.busy": "2021-12-17T05:50:59.544006Z",
     "iopub.status.idle": "2021-12-17T05:50:59.765813Z",
     "shell.execute_reply": "2021-12-17T05:50:59.765117Z",
     "shell.execute_reply.started": "2021-12-17T05:50:59.544229Z"
    }
   },
   "outputs": [],
   "source": [
    "plot_losses(history)"
   ]
  },
  {
   "cell_type": "code",
   "execution_count": 88,
   "metadata": {
    "execution": {
     "iopub.execute_input": "2021-12-17T05:51:02.823100Z",
     "iopub.status.busy": "2021-12-17T05:51:02.822836Z",
     "iopub.status.idle": "2021-12-17T05:51:02.828109Z",
     "shell.execute_reply": "2021-12-17T05:51:02.827063Z",
     "shell.execute_reply.started": "2021-12-17T05:51:02.823069Z"
    }
   },
   "outputs": [],
   "source": [
    "def predict_image(img, model):\n",
    "    # Convert to a batch of 1\n",
    "    xb = to_device(img.unsqueeze(0), device)\n",
    "    # Get predictions from model\n",
    "    yb = model(xb)\n",
    "    # Pick index with highest probability\n",
    "    _, preds  = torch.max(yb, dim=1)\n",
    "    # Retrieve the class label\n",
    "    return dataset.classes[preds[0].item()]"
   ]
  },
  {
   "cell_type": "code",
   "execution_count": 89,
   "metadata": {
    "execution": {
     "iopub.execute_input": "2021-12-17T05:51:04.944053Z",
     "iopub.status.busy": "2021-12-17T05:51:04.943761Z",
     "iopub.status.idle": "2021-12-17T05:51:05.186539Z",
     "shell.execute_reply": "2021-12-17T05:51:05.185842Z",
     "shell.execute_reply.started": "2021-12-17T05:51:04.944003Z"
    }
   },
   "outputs": [],
   "source": [
    "img, label = test[1002]\n",
    "plt.imshow(img.permute(1, 2, 0))\n",
    "print('Label:', dataset.classes[label], ', Predicted:', predict_image(img, model))"
   ]
  },
  {
   "cell_type": "code",
   "execution_count": 90,
   "metadata": {
    "execution": {
     "iopub.execute_input": "2021-12-17T05:51:10.712232Z",
     "iopub.status.busy": "2021-12-17T05:51:10.711971Z",
     "iopub.status.idle": "2021-12-17T05:51:10.928492Z",
     "shell.execute_reply": "2021-12-17T05:51:10.927765Z",
     "shell.execute_reply.started": "2021-12-17T05:51:10.712201Z"
    }
   },
   "outputs": [],
   "source": [
    "img, label = test[6153]\n",
    "plt.imshow(img.permute(1, 2, 0))\n",
    "print('Label:', dataset.classes[label], ', Predicted:', predict_image(img, model))"
   ]
  },
  {
   "cell_type": "code",
   "execution_count": 91,
   "metadata": {
    "execution": {
     "iopub.execute_input": "2021-12-17T05:51:15.273674Z",
     "iopub.status.busy": "2021-12-17T05:51:15.273123Z",
     "iopub.status.idle": "2021-12-17T05:51:15.485662Z",
     "shell.execute_reply": "2021-12-17T05:51:15.484927Z",
     "shell.execute_reply.started": "2021-12-17T05:51:15.273635Z"
    }
   },
   "outputs": [],
   "source": [
    "img, label = test[8000]\n",
    "plt.imshow(img.permute(1, 2, 0))\n",
    "print('Label:', dataset.classes[label], ', Predicted:', predict_image(img, model))"
   ]
  },
  {
   "cell_type": "code",
   "execution_count": 92,
   "metadata": {
    "execution": {
     "iopub.execute_input": "2021-12-17T05:51:18.541409Z",
     "iopub.status.busy": "2021-12-17T05:51:18.540937Z",
     "iopub.status.idle": "2021-12-17T05:51:50.074800Z",
     "shell.execute_reply": "2021-12-17T05:51:50.074093Z",
     "shell.execute_reply.started": "2021-12-17T05:51:18.541370Z"
    }
   },
   "outputs": [],
   "source": [
    "test_loader = DeviceDataLoader(DataLoader(test, batch_size*2), device)\n",
    "result = evaluate(model, test_loader)\n",
    "result"
   ]
  },
  {
   "cell_type": "code",
   "execution_count": 94,
   "metadata": {
    "execution": {
     "iopub.execute_input": "2021-12-17T05:51:50.082473Z",
     "iopub.status.busy": "2021-12-17T05:51:50.082162Z",
     "iopub.status.idle": "2021-12-17T05:51:50.092314Z",
     "shell.execute_reply": "2021-12-17T05:51:50.091679Z",
     "shell.execute_reply.started": "2021-12-17T05:51:50.082433Z"
    }
   },
   "outputs": [],
   "source": [
    "test_accuracy=0.9257110357284546\n",
    "test_loss=0.44497522711753845"
   ]
  },
  {
   "cell_type": "code",
   "execution_count": 95,
   "metadata": {
    "execution": {
     "iopub.execute_input": "2021-12-17T05:51:50.095372Z",
     "iopub.status.busy": "2021-12-17T05:51:50.094574Z",
     "iopub.status.idle": "2021-12-17T05:51:50.214627Z",
     "shell.execute_reply": "2021-12-17T05:51:50.213663Z",
     "shell.execute_reply.started": "2021-12-17T05:51:50.095334Z"
    }
   },
   "outputs": [],
   "source": [
    "torch.save(model.state_dict(), 'fruitsfinalcnn.pth')"
   ]
  },
  {
   "cell_type": "code",
   "execution_count": 96,
   "metadata": {
    "execution": {
     "iopub.execute_input": "2021-12-17T05:51:50.218013Z",
     "iopub.status.busy": "2021-12-17T05:51:50.217796Z",
     "iopub.status.idle": "2021-12-17T05:51:50.289647Z",
     "shell.execute_reply": "2021-12-17T05:51:50.288919Z",
     "shell.execute_reply.started": "2021-12-17T05:51:50.217984Z"
    }
   },
   "outputs": [],
   "source": [
    "model2 = to_device(FruitsModel(), device)"
   ]
  },
  {
   "cell_type": "code",
   "execution_count": 97,
   "metadata": {
    "execution": {
     "iopub.execute_input": "2021-12-17T05:51:50.291142Z",
     "iopub.status.busy": "2021-12-17T05:51:50.290889Z",
     "iopub.status.idle": "2021-12-17T05:51:50.320334Z",
     "shell.execute_reply": "2021-12-17T05:51:50.319643Z",
     "shell.execute_reply.started": "2021-12-17T05:51:50.291108Z"
    }
   },
   "outputs": [],
   "source": [
    "model2.load_state_dict(torch.load('fruitsfinalcnn.pth'))"
   ]
  },
  {
   "cell_type": "code",
   "execution_count": 98,
   "metadata": {
    "execution": {
     "iopub.execute_input": "2021-12-17T05:51:50.322810Z",
     "iopub.status.busy": "2021-12-17T05:51:50.322360Z",
     "iopub.status.idle": "2021-12-17T05:52:21.471785Z",
     "shell.execute_reply": "2021-12-17T05:52:21.470953Z",
     "shell.execute_reply.started": "2021-12-17T05:51:50.322772Z"
    }
   },
   "outputs": [],
   "source": [
    "evaluate(model2, test_loader)\n"
   ]
  },
  {
   "cell_type": "markdown",
   "metadata": {},
   "source": [
    "## 3. Resnet9\n",
    "resnet v6"
   ]
  },
  {
   "cell_type": "code",
   "execution_count": 99,
   "metadata": {
    "execution": {
     "iopub.execute_input": "2021-12-17T05:52:21.479591Z",
     "iopub.status.busy": "2021-12-17T05:52:21.479133Z",
     "iopub.status.idle": "2021-12-17T05:52:21.483437Z",
     "shell.execute_reply": "2021-12-17T05:52:21.482750Z",
     "shell.execute_reply.started": "2021-12-17T05:52:21.479549Z"
    }
   },
   "outputs": [],
   "source": [
    "archi='ResNet9'"
   ]
  },
  {
   "cell_type": "code",
   "execution_count": 100,
   "metadata": {
    "execution": {
     "iopub.execute_input": "2021-12-17T05:52:21.485664Z",
     "iopub.status.busy": "2021-12-17T05:52:21.485098Z",
     "iopub.status.idle": "2021-12-17T05:52:21.498865Z",
     "shell.execute_reply": "2021-12-17T05:52:21.497966Z",
     "shell.execute_reply.started": "2021-12-17T05:52:21.485627Z"
    }
   },
   "outputs": [],
   "source": [
    "@torch.no_grad() \n",
    "def evaluate(model, val_loader):\n",
    "    model.eval()\n",
    "    outputs = [model.validation_step(batch) for batch in val_loader]\n",
    "    return model.validation_epoch_end(outputs)\n",
    "\n",
    "def fit(epochs, lr, model, train_loader, val_loader, opt_func=torch.optim.SGD):\n",
    "    history = []\n",
    "    optimizer = opt_func(model.parameters(), lr)\n",
    "    for epoch in range(epochs):\n",
    "        # 训练阶段\n",
    "        model.train()\n",
    "        train_losses = []\n",
    "        for batch in train_loader:\n",
    "            loss = model.training_step(batch)\n",
    "            train_losses.append(loss)\n",
    "            loss.backward()\n",
    "            optimizer.step()\n",
    "            optimizer.zero_grad()\n",
    "        # 测试阶段\n",
    "        result = evaluate(model, val_loader)\n",
    "        result['train_loss'] = torch.stack(train_losses).mean().item()\n",
    "        model.epoch_end(epoch, result)\n",
    "        history.append(result)\n",
    "    return history"
   ]
  },
  {
   "cell_type": "code",
   "execution_count": 101,
   "metadata": {
    "execution": {
     "iopub.execute_input": "2021-12-17T05:52:21.501963Z",
     "iopub.status.busy": "2021-12-17T05:52:21.501582Z",
     "iopub.status.idle": "2021-12-17T05:52:21.514073Z",
     "shell.execute_reply": "2021-12-17T05:52:21.513311Z",
     "shell.execute_reply.started": "2021-12-17T05:52:21.501912Z"
    }
   },
   "outputs": [],
   "source": [
    "#repeated\n",
    "def accuracy(outputs, labels):\n",
    "    _, preds = torch.max(outputs, dim=1)\n",
    "    return torch.tensor(torch.sum(preds == labels).item() / len(preds))\n",
    "\n",
    "class ImageClassificationBase(nn.Module):\n",
    "    def training_step(self, batch):\n",
    "        images, labels = batch \n",
    "        out = self(images)                  # 生成预测\n",
    "        loss = F.cross_entropy(out, labels) # 计算损失\n",
    "        return loss\n",
    "    \n",
    "    def validation_step(self, batch):\n",
    "        images, labels = batch \n",
    "        out = self(images)                    # 生成预测\n",
    "        loss = F.cross_entropy(out, labels)   # 计算损失\n",
    "        acc = accuracy(out, labels)           # 计算精度\n",
    "        return {'val_loss': loss.detach(), 'val_acc': acc}\n",
    "        \n",
    "    def validation_epoch_end(self, outputs):\n",
    "        batch_losses = [x['val_loss'] for x in outputs]\n",
    "        epoch_loss = torch.stack(batch_losses).mean()   \n",
    "        batch_accs = [x['val_acc'] for x in outputs]\n",
    "        epoch_acc = torch.stack(batch_accs).mean()      \n",
    "        return {'val_loss': epoch_loss.item(), 'val_acc': epoch_acc.item()}\n",
    "    \n",
    "    def epoch_end(self, epoch, result):\n",
    "        print(\"Epoch [{}], last_lr: {:.5f}, train_loss: {:.4f}, val_loss: {:.4f}, val_acc: {:.4f}\".format(\n",
    "            epoch, result['lrs'][-1], result['train_loss'], result['val_loss'], result['val_acc']))\n"
   ]
  },
  {
   "cell_type": "code",
   "execution_count": 103,
   "metadata": {
    "execution": {
     "iopub.execute_input": "2021-12-17T05:52:50.268793Z",
     "iopub.status.busy": "2021-12-17T05:52:50.268374Z",
     "iopub.status.idle": "2021-12-17T05:52:50.282983Z",
     "shell.execute_reply": "2021-12-17T05:52:50.282182Z",
     "shell.execute_reply.started": "2021-12-17T05:52:50.268750Z"
    }
   },
   "outputs": [],
   "source": [
    "def conv_block(in_channels, out_channels, pool=False):\n",
    "    layers = [nn.Conv2d(in_channels, out_channels, kernel_size=3, padding=1), \n",
    "              nn.BatchNorm2d(out_channels), \n",
    "              nn.ReLU(inplace=True)]\n",
    "    if pool: layers.append(nn.MaxPool2d(2))\n",
    "    return nn.Sequential(*layers)\n",
    "\n",
    "class ResNet9(ImageClassificationBase):\n",
    "    def __init__(self, in_channels, num_classes):\n",
    "        super().__init__()\n",
    "        \n",
    "        self.conv1 = conv_block(in_channels, 64)\n",
    "        self.conv2 = conv_block(64, 128, pool=True)\n",
    "        self.res1 = nn.Sequential(conv_block(128, 128), conv_block(128, 128))\n",
    "        \n",
    "        self.conv3 = conv_block(128, 256, pool=True)\n",
    "        self.conv4 = conv_block(256, 512, pool=True)\n",
    "        self.res2 = nn.Sequential(conv_block(512, 512), conv_block(512, 512))\n",
    "        \n",
    "        self.classifier = nn.Sequential(nn.MaxPool2d(4), \n",
    "                                        nn.Flatten(), \n",
    "                                        nn.Linear(4608, num_classes))\n",
    "        \n",
    "    def forward(self, xb):\n",
    "        out = self.conv1(xb)\n",
    "        out = self.conv2(out)\n",
    "        out = self.res1(out) + out\n",
    "        out = self.conv3(out)\n",
    "        out = self.conv4(out)\n",
    "        out = self.res2(out) + out\n",
    "        out = self.classifier(out)\n",
    "        return out"
   ]
  },
  {
   "cell_type": "code",
   "execution_count": 104,
   "metadata": {
    "execution": {
     "iopub.execute_input": "2021-12-17T05:52:52.693328Z",
     "iopub.status.busy": "2021-12-17T05:52:52.692792Z",
     "iopub.status.idle": "2021-12-17T05:52:52.761983Z",
     "shell.execute_reply": "2021-12-17T05:52:52.761323Z",
     "shell.execute_reply.started": "2021-12-17T05:52:52.693292Z"
    }
   },
   "outputs": [],
   "source": [
    "model = to_device(ResNet9(3, 131), device)\n",
    "model"
   ]
  },
  {
   "cell_type": "code",
   "execution_count": 105,
   "metadata": {
    "execution": {
     "iopub.execute_input": "2021-12-17T05:52:57.056784Z",
     "iopub.status.busy": "2021-12-17T05:52:57.056111Z",
     "iopub.status.idle": "2021-12-17T05:52:57.068870Z",
     "shell.execute_reply": "2021-12-17T05:52:57.067779Z",
     "shell.execute_reply.started": "2021-12-17T05:52:57.056746Z"
    }
   },
   "outputs": [],
   "source": [
    "@torch.no_grad()\n",
    "def evaluate(model, val_loader):\n",
    "    model.eval()\n",
    "    outputs = [model.validation_step(batch) for batch in val_loader]\n",
    "    return model.validation_epoch_end(outputs)\n",
    "\n",
    "def get_lr(optimizer):\n",
    "    for param_group in optimizer.param_groups:\n",
    "        return param_group['lr']\n",
    "\n",
    "def fit_one_cycle(epochs, max_lr, model, train_loader, val_loader, \n",
    "                  weight_decay=0, grad_clip=None, opt_func=torch.optim.SGD):\n",
    "    torch.cuda.empty_cache()\n",
    "    history = []\n",
    "    \n",
    "    # 设置优化器\n",
    "    optimizer = opt_func(model.parameters(), max_lr, weight_decay=weight_decay)\n",
    "    # 设置学习程序\n",
    "    sched = torch.optim.lr_scheduler.OneCycleLR(optimizer, max_lr, epochs=epochs, \n",
    "                                                steps_per_epoch=len(train_loader))\n",
    "    \n",
    "    for epoch in range(epochs):\n",
    "        # 训练阶段\n",
    "        model.train()\n",
    "        train_losses = []\n",
    "        lrs = []\n",
    "        for batch in train_loader:\n",
    "            loss = model.training_step(batch)\n",
    "            train_losses.append(loss)\n",
    "            loss.backward()\n",
    "            \n",
    "            # 梯度下降\n",
    "            if grad_clip: \n",
    "                nn.utils.clip_grad_value_(model.parameters(), grad_clip)\n",
    "            \n",
    "            optimizer.step()\n",
    "            optimizer.zero_grad()\n",
    "            \n",
    "            # 记录和更新学习率\n",
    "            lrs.append(get_lr(optimizer))\n",
    "            sched.step()\n",
    "        \n",
    "        # 测试阶段\n",
    "        result = evaluate(model, val_loader)\n",
    "        result['train_loss'] = torch.stack(train_losses).mean().item()\n",
    "        result['lrs'] = lrs\n",
    "        model.epoch_end(epoch, result)\n",
    "        history.append(result)\n",
    "    return history"
   ]
  },
  {
   "cell_type": "code",
   "execution_count": 106,
   "metadata": {
    "execution": {
     "iopub.execute_input": "2021-12-17T05:52:59.851493Z",
     "iopub.status.busy": "2021-12-17T05:52:59.851202Z",
     "iopub.status.idle": "2021-12-17T05:52:59.857090Z",
     "shell.execute_reply": "2021-12-17T05:52:59.856307Z",
     "shell.execute_reply.started": "2021-12-17T05:52:59.851460Z"
    }
   },
   "outputs": [],
   "source": [
    "#在前馈中加载gpu\n",
    "device = get_default_device()\n",
    "device"
   ]
  },
  {
   "cell_type": "code",
   "execution_count": 107,
   "metadata": {
    "execution": {
     "iopub.execute_input": "2021-12-17T05:53:02.182816Z",
     "iopub.status.busy": "2021-12-17T05:53:02.182551Z",
     "iopub.status.idle": "2021-12-17T05:53:02.189232Z",
     "shell.execute_reply": "2021-12-17T05:53:02.188316Z",
     "shell.execute_reply.started": "2021-12-17T05:53:02.182787Z"
    }
   },
   "outputs": [],
   "source": [
    "train_dl = DeviceDataLoader(train_dl, device)\n",
    "val_dl = DeviceDataLoader(val_dl, device)\n",
    "to_device(model, device);"
   ]
  },
  {
   "cell_type": "code",
   "execution_count": 108,
   "metadata": {
    "execution": {
     "iopub.execute_input": "2021-12-17T05:53:04.029895Z",
     "iopub.status.busy": "2021-12-17T05:53:04.029630Z",
     "iopub.status.idle": "2021-12-17T05:53:13.709953Z",
     "shell.execute_reply": "2021-12-17T05:53:13.709172Z",
     "shell.execute_reply.started": "2021-12-17T05:53:04.029864Z"
    }
   },
   "outputs": [],
   "source": [
    "history = [evaluate(model, val_dl)]\n",
    "history"
   ]
  },
  {
   "cell_type": "code",
   "execution_count": 109,
   "metadata": {
    "execution": {
     "iopub.execute_input": "2021-12-17T05:53:13.712483Z",
     "iopub.status.busy": "2021-12-17T05:53:13.711977Z",
     "iopub.status.idle": "2021-12-17T05:53:13.716734Z",
     "shell.execute_reply": "2021-12-17T05:53:13.716070Z",
     "shell.execute_reply.started": "2021-12-17T05:53:13.712440Z"
    }
   },
   "outputs": [],
   "source": [
    "epochs = 10\n",
    "max_lr = 0.01\n",
    "grad_clip = 0.1\n",
    "weight_decay = 1e-4\n",
    "opt_func = torch.optim.Adam"
   ]
  },
  {
   "cell_type": "code",
   "execution_count": 110,
   "metadata": {
    "execution": {
     "iopub.execute_input": "2021-12-17T05:53:13.719273Z",
     "iopub.status.busy": "2021-12-17T05:53:13.718180Z",
     "iopub.status.idle": "2021-12-17T06:18:40.023862Z",
     "shell.execute_reply": "2021-12-17T06:18:40.022961Z",
     "shell.execute_reply.started": "2021-12-17T05:53:13.719211Z"
    }
   },
   "outputs": [],
   "source": [
    "%%time\n",
    "history += fit_one_cycle(epochs, max_lr, model, train_dl, val_dl, \n",
    "                             grad_clip=grad_clip, \n",
    "                             weight_decay=weight_decay, \n",
    "                             opt_func=opt_func)"
   ]
  },
  {
   "cell_type": "code",
   "execution_count": 118,
   "metadata": {
    "execution": {
     "iopub.execute_input": "2021-12-17T06:21:48.511328Z",
     "iopub.status.busy": "2021-12-17T06:21:48.511047Z",
     "iopub.status.idle": "2021-12-17T06:21:48.517316Z",
     "shell.execute_reply": "2021-12-17T06:21:48.515049Z",
     "shell.execute_reply.started": "2021-12-17T06:21:48.511296Z"
    }
   },
   "outputs": [],
   "source": [
    "#repeated\n",
    "def plot_accuracies(history):\n",
    "    accuracies = [x['val_acc'] for x in history]\n",
    "    plt.plot(accuracies, '-x')\n",
    "    plt.xlabel('epoch')\n",
    "    plt.ylabel('accuracy')\n",
    "    plt.title('Accuracy vs. No. of epochs');"
   ]
  },
  {
   "cell_type": "code",
   "execution_count": 119,
   "metadata": {
    "execution": {
     "iopub.execute_input": "2021-12-17T06:21:51.762094Z",
     "iopub.status.busy": "2021-12-17T06:21:51.761342Z",
     "iopub.status.idle": "2021-12-17T06:21:51.973851Z",
     "shell.execute_reply": "2021-12-17T06:21:51.973109Z",
     "shell.execute_reply.started": "2021-12-17T06:21:51.762050Z"
    }
   },
   "outputs": [],
   "source": [
    "plot_accuracies(history)"
   ]
  },
  {
   "cell_type": "code",
   "execution_count": 120,
   "metadata": {
    "execution": {
     "iopub.execute_input": "2021-12-17T06:21:54.787335Z",
     "iopub.status.busy": "2021-12-17T06:21:54.786809Z",
     "iopub.status.idle": "2021-12-17T06:21:54.792687Z",
     "shell.execute_reply": "2021-12-17T06:21:54.791821Z",
     "shell.execute_reply.started": "2021-12-17T06:21:54.787298Z"
    }
   },
   "outputs": [],
   "source": [
    "#repeated\n",
    "def plot_losses(history):\n",
    "    train_losses = [x.get('train_loss') for x in history]\n",
    "    val_losses = [x['val_loss'] for x in history]\n",
    "    plt.plot(train_losses, '-bx')\n",
    "    plt.plot(val_losses, '-rx')\n",
    "    plt.xlabel('epoch')\n",
    "    plt.ylabel('loss')\n",
    "    plt.legend(['Training', 'Validation'])\n",
    "    plt.title('Loss vs. No. of epochs');"
   ]
  },
  {
   "cell_type": "code",
   "execution_count": 121,
   "metadata": {
    "execution": {
     "iopub.execute_input": "2021-12-17T06:21:58.269661Z",
     "iopub.status.busy": "2021-12-17T06:21:58.269407Z",
     "iopub.status.idle": "2021-12-17T06:21:58.486439Z",
     "shell.execute_reply": "2021-12-17T06:21:58.485759Z",
     "shell.execute_reply.started": "2021-12-17T06:21:58.269631Z"
    }
   },
   "outputs": [],
   "source": [
    "plot_losses(history)"
   ]
  },
  {
   "cell_type": "code",
   "execution_count": 122,
   "metadata": {
    "execution": {
     "iopub.execute_input": "2021-12-17T06:22:02.157095Z",
     "iopub.status.busy": "2021-12-17T06:22:02.156841Z",
     "iopub.status.idle": "2021-12-17T06:22:02.162047Z",
     "shell.execute_reply": "2021-12-17T06:22:02.161140Z",
     "shell.execute_reply.started": "2021-12-17T06:22:02.157064Z"
    }
   },
   "outputs": [],
   "source": [
    "def plot_lrs(history):\n",
    "    lrs = np.concatenate([x.get('lrs', []) for x in history])\n",
    "    plt.plot(lrs)\n",
    "    plt.xlabel('Batch no.')\n",
    "    plt.ylabel('Learning rate')\n",
    "    plt.title('Learning Rate vs. Batch no.');"
   ]
  },
  {
   "cell_type": "code",
   "execution_count": 115,
   "metadata": {
    "execution": {
     "iopub.execute_input": "2021-12-17T06:18:40.527919Z",
     "iopub.status.busy": "2021-12-17T06:18:40.527650Z",
     "iopub.status.idle": "2021-12-17T06:18:40.713274Z",
     "shell.execute_reply": "2021-12-17T06:18:40.712667Z",
     "shell.execute_reply.started": "2021-12-17T06:18:40.527886Z"
    }
   },
   "outputs": [],
   "source": [
    "plot_lrs(history)\n"
   ]
  },
  {
   "cell_type": "code",
   "execution_count": 123,
   "metadata": {
    "execution": {
     "iopub.execute_input": "2021-12-17T06:22:13.668878Z",
     "iopub.status.busy": "2021-12-17T06:22:13.668625Z",
     "iopub.status.idle": "2021-12-17T06:22:13.674492Z",
     "shell.execute_reply": "2021-12-17T06:22:13.673106Z",
     "shell.execute_reply.started": "2021-12-17T06:22:13.668848Z"
    }
   },
   "outputs": [],
   "source": [
    "#repeated\n",
    "def predict_image(img, model):\n",
    "    # Convert to a batch of 1\n",
    "    xb = to_device(img.unsqueeze(0), device)\n",
    "    #从模型中获取预测\n",
    "    yb = model(xb)\n",
    "    # 选择概率最大的\n",
    "    _, preds  = torch.max(yb, dim=1)\n",
    "    # 检索类标签\n",
    "    return dataset.classes[preds[0].item()]"
   ]
  },
  {
   "cell_type": "code",
   "execution_count": 124,
   "metadata": {
    "execution": {
     "iopub.execute_input": "2021-12-17T06:22:17.004681Z",
     "iopub.status.busy": "2021-12-17T06:22:17.004116Z",
     "iopub.status.idle": "2021-12-17T06:22:17.227616Z",
     "shell.execute_reply": "2021-12-17T06:22:17.226936Z",
     "shell.execute_reply.started": "2021-12-17T06:22:17.004637Z"
    }
   },
   "outputs": [],
   "source": [
    "img, label = test[0]\n",
    "plt.imshow(img.permute(1, 2, 0))\n",
    "print('Label:', dataset.classes[label], ', Predicted:', predict_image(img, model))"
   ]
  },
  {
   "cell_type": "code",
   "execution_count": 125,
   "metadata": {
    "execution": {
     "iopub.execute_input": "2021-12-17T06:22:22.539047Z",
     "iopub.status.busy": "2021-12-17T06:22:22.538781Z",
     "iopub.status.idle": "2021-12-17T06:22:22.760767Z",
     "shell.execute_reply": "2021-12-17T06:22:22.760093Z",
     "shell.execute_reply.started": "2021-12-17T06:22:22.539016Z"
    }
   },
   "outputs": [],
   "source": [
    "img, label = test[1000]\n",
    "plt.imshow(img.permute(1, 2, 0))\n",
    "print('Label:', dataset.classes[label], ', Predicted:', predict_image(img, model))"
   ]
  },
  {
   "cell_type": "code",
   "execution_count": 126,
   "metadata": {
    "execution": {
     "iopub.execute_input": "2021-12-17T06:22:57.628836Z",
     "iopub.status.busy": "2021-12-17T06:22:57.628561Z",
     "iopub.status.idle": "2021-12-17T06:22:57.852538Z",
     "shell.execute_reply": "2021-12-17T06:22:57.851763Z",
     "shell.execute_reply.started": "2021-12-17T06:22:57.628806Z"
    }
   },
   "outputs": [],
   "source": [
    "img, label = test[4000]\n",
    "plt.imshow(img.permute(1, 2, 0))\n",
    "print('Label:', dataset.classes[label], ', Predicted:', predict_image(img, model))"
   ]
  },
  {
   "cell_type": "code",
   "execution_count": 127,
   "metadata": {
    "execution": {
     "iopub.execute_input": "2021-12-17T06:23:00.420607Z",
     "iopub.status.busy": "2021-12-17T06:23:00.419996Z",
     "iopub.status.idle": "2021-12-17T06:24:04.403750Z",
     "shell.execute_reply": "2021-12-17T06:24:04.403070Z",
     "shell.execute_reply.started": "2021-12-17T06:23:00.420569Z"
    }
   },
   "outputs": [],
   "source": [
    "test = DeviceDataLoader(DataLoader(test, batch_size*2), device)\n",
    "result = evaluate(model, test)\n",
    "result"
   ]
  },
  {
   "cell_type": "code",
   "execution_count": null,
   "metadata": {
    "execution": {
     "iopub.status.busy": "2021-12-17T05:35:04.309924Z",
     "iopub.status.idle": "2021-12-17T05:35:04.310572Z",
     "shell.execute_reply": "2021-12-17T05:35:04.310338Z",
     "shell.execute_reply.started": "2021-12-17T05:35:04.310312Z"
    }
   },
   "outputs": [],
   "source": [
    "test_loss= 0.05671628192067146\n",
    "test_accuracy =0.9884567856788635"
   ]
  }
 ],
 "metadata": {
  "kernelspec": {
   "display_name": "Python 3",
   "language": "python",
   "name": "python3"
  },
  "language_info": {
   "codemirror_mode": {
    "name": "ipython",
    "version": 3
   },
   "file_extension": ".py",
   "mimetype": "text/x-python",
   "name": "python",
   "nbconvert_exporter": "python",
   "pygments_lexer": "ipython3",
   "version": "3.8.8"
  }
 },
 "nbformat": 4,
 "nbformat_minor": 4
}
